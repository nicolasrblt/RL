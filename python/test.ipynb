{
 "cells": [
  {
   "cell_type": "code",
   "execution_count": 1,
   "metadata": {},
   "outputs": [
    {
     "name": "stdout",
     "output_type": "stream",
     "text": [
      "<class 'sac.sac_agent.SACAgent'>\n",
      "<class 'sac.sac_env.SACEnv'>\n"
     ]
    }
   ],
   "source": [
    "import time\n",
    "import random\n",
    "import numpy as np\n",
    "\n",
    "import messages\n",
    "from simulator import Simulator\n",
    "from agent import Agent\n",
    "from unity_env import UnityEnv"
   ]
  },
  {
   "cell_type": "code",
   "execution_count": 2,
   "metadata": {},
   "outputs": [],
   "source": [
    "simulator = Simulator(port=5004)\n",
    "#env = UnityEnv(simulator, 9, 2, 1, lambda: np.random.random((2,)))\n",
    "#agent = Agent(env)\n",
    "#buffer = ReplayBuffer(17, 2, int(1e6))"
   ]
  },
  {
   "cell_type": "code",
   "execution_count": 3,
   "metadata": {},
   "outputs": [],
   "source": [
    "simulator.start_server()\n",
    "serv = simulator.server"
   ]
  },
  {
   "cell_type": "code",
   "execution_count": 225,
   "metadata": {},
   "outputs": [],
   "source": [
    "import json\n",
    "from messages.controll_message import ControllMessage\n",
    "class SingleFieldMessage:\n",
    "    def __init__(self, x) -> None:\n",
    "        self.value = x\n",
    "    def to_json(self):\n",
    "        return json.dumps(self.__dict__)\n",
    "    \n",
    "\n",
    "msg = messages.RequestMessage(\"test\", \"\").to_json()\n",
    "msg2 = messages.RequestMessage(\"timeScale\", SingleFieldMessage(2.).to_json()).to_json()\n",
    "msg3 = messages.RequestMessage(\"pause\", SingleFieldMessage(False).to_json()).to_json()\n",
    "msg4 = messages.RequestMessage(\"reset\", \"\").to_json()\n",
    "msg5 = messages.RequestMessage(\"step\", ControllMessage(5, 5).to_json()).to_json()\n"
   ]
  },
  {
   "cell_type": "code",
   "execution_count": 56,
   "metadata": {},
   "outputs": [],
   "source": [
    "serv.clients[-1].socket.sendall(msg.encode())"
   ]
  },
  {
   "cell_type": "code",
   "execution_count": 67,
   "metadata": {},
   "outputs": [],
   "source": [
    "serv.clients[-1].socket.sendall(msg2.encode())"
   ]
  },
  {
   "cell_type": "code",
   "execution_count": 58,
   "metadata": {},
   "outputs": [],
   "source": [
    "serv.clients[-1].socket.sendall(msg3.encode())"
   ]
  },
  {
   "cell_type": "code",
   "execution_count": 295,
   "metadata": {},
   "outputs": [],
   "source": [
    "serv.clients[-1].socket.sendall(msg4.encode())"
   ]
  },
  {
   "cell_type": "code",
   "execution_count": 291,
   "metadata": {},
   "outputs": [],
   "source": [
    "for i in range(100):\n",
    "    serv.clients[-1].socket.sendall(msg5.encode())\n",
    "    time.sleep(0.02)"
   ]
  },
  {
   "cell_type": "code",
   "execution_count": null,
   "metadata": {},
   "outputs": [],
   "source": [
    "simulator.server.clients[-1].socket.sendall(b\"foo\")"
   ]
  },
  {
   "cell_type": "code",
   "execution_count": null,
   "metadata": {},
   "outputs": [],
   "source": [
    "control_message = messages.ControllMessage(0, 10)\n",
    "message = messages.RequestMessage(\"step\", control_message.to_json())\n",
    "\n",
    "simulator.server.send([message.to_json()])\n",
    "\n",
    "response = messages.ResponseMessage.from_json(simulator.server.recive()[0])\n",
    "observation_message = messages.ObservationMessage.from_json(response.value)\n",
    "print(observation_message.to_json())\n"
   ]
  },
  {
   "cell_type": "code",
   "execution_count": 296,
   "metadata": {},
   "outputs": [
    {
     "data": {
      "text/plain": [
       "b'{\"value\":\"{\\\\\"agentPostion\\\\\":{\\\\\"x\\\\\":8.245100021362305,\\\\\"y\\\\\":0.30000001192092898,\\\\\"z\\\\\":5.982548713684082},\\\\\"agentRotation\\\\\":{\\\\\"x\\\\\":0.0,\\\\\"y\\\\\":88.83110809326172,\\\\\"z\\\\\":0.0},\\\\\"velocity\\\\\":{\\\\\"x\\\\\":0.0,\\\\\"y\\\\\":0.0,\\\\\"z\\\\\":0.0},\\\\\"angularVelocity\\\\\":{\\\\\"x\\\\\":0.0,\\\\\"y\\\\\":0.0,\\\\\"z\\\\\":0.0},\\\\\"redBallPosition\\\\\":{\\\\\"x\\\\\":-1.1663446426391602,\\\\\"y\\\\\":0.25,\\\\\"z\\\\\":6.204244613647461},\\\\\"blueBallPosition\\\\\":{\\\\\"x\\\\\":0.9334774613380432,\\\\\"y\\\\\":-10.0,\\\\\"z\\\\\":2.549999952316284},\\\\\"greenBallPosition\\\\\":{\\\\\"x\\\\\":0.9334774613380432,\\\\\"y\\\\\":-10.0,\\\\\"z\\\\\":-4.090000152587891},\\\\\"grayAreaPosition\\\\\":{\\\\\"x\\\\\":-1.215153455734253,\\\\\"y\\\\\":0.009999999776482582,\\\\\"z\\\\\":7.588531494140625},\\\\\"orangeAreaPosition\\\\\":{\\\\\"x\\\\\":5.53000020980835,\\\\\"y\\\\\":-10.0,\\\\\"z\\\\\":3.6500000953674318},\\\\\"whiteAreaPosition\\\\\":{\\\\\"x\\\\\":-6.53000020980835,\\\\\"y\\\\\":-10.0,\\\\\"z\\\\\":-0.3357459604740143},\\\\\"terminate\\\\\":false,\\\\\"reward\\\\\":0.0}\"}'"
      ]
     },
     "execution_count": 296,
     "metadata": {},
     "output_type": "execute_result"
    }
   ],
   "source": [
    "simulator.server.clients[-1].receive()"
   ]
  },
  {
   "cell_type": "code",
   "execution_count": null,
   "metadata": {},
   "outputs": [],
   "source": [
    "simulator.server.clients[-1].socket.sendall(b\"foo\")"
   ]
  },
  {
   "cell_type": "code",
   "execution_count": null,
   "metadata": {},
   "outputs": [],
   "source": [
    "agent.train()"
   ]
  },
  {
   "cell_type": "code",
   "execution_count": null,
   "metadata": {},
   "outputs": [],
   "source": [
    "simulator.shutdown()"
   ]
  }
 ],
 "metadata": {
  "kernelspec": {
   "display_name": "base",
   "language": "python",
   "name": "python3"
  },
  "language_info": {
   "codemirror_mode": {
    "name": "ipython",
    "version": 3
   },
   "file_extension": ".py",
   "mimetype": "text/x-python",
   "name": "python",
   "nbconvert_exporter": "python",
   "pygments_lexer": "ipython3",
   "version": "3.10.11"
  },
  "orig_nbformat": 4
 },
 "nbformat": 4,
 "nbformat_minor": 2
}
