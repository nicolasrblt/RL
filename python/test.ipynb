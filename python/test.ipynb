{
 "cells": [
  {
   "cell_type": "code",
   "execution_count": null,
   "metadata": {},
   "outputs": [],
   "source": [
    "import time\n",
    "import random\n",
    "import numpy as np\n",
    "\n",
    "import messages\n",
    "from simulator import Simulator\n",
    "from agent import Agent\n",
    "from unity_env import UnityEnv"
   ]
  },
  {
   "cell_type": "code",
   "execution_count": null,
   "metadata": {},
   "outputs": [],
   "source": [
    "simulator = Simulator(port=5004)\n",
    "env = UnityEnv(simulator, 17, 2, 1, lambda: np.random.random((2,)))\n",
    "agent = Agent(env)\n",
    "#buffer = ReplayBuffer(17, 2, int(1e6))"
   ]
  },
  {
   "cell_type": "code",
   "execution_count": null,
   "metadata": {},
   "outputs": [],
   "source": [
    "simulator.start_server()"
   ]
  },
  {
   "cell_type": "code",
   "execution_count": null,
   "metadata": {},
   "outputs": [],
   "source": [
    "controll_message = messages.ControllMessage(0, 100)\n",
    "message = messages.RequestMessage(\"step\", controll_message.to_json())\n",
    "\n",
    "simulator.server.send([message.to_json()])\n",
    "\n",
    "#response = messages.ResponseMessage.from_json(self.server.recive()[0])\n",
    "#observation_message = messages.ObservationMessage.from_json(response.value)\n"
   ]
  },
  {
   "cell_type": "code",
   "execution_count": null,
   "metadata": {},
   "outputs": [],
   "source": [
    "agent.train()"
   ]
  },
  {
   "cell_type": "code",
   "execution_count": null,
   "metadata": {},
   "outputs": [],
   "source": [
    "target_fps = 50\n",
    "target_frame_duration = 1 / target_fps\n",
    "\n",
    "max_q_len = 1000\n",
    "simulator.resume()\n",
    "time.sleep(0.1)\n",
    "obs, _, done = simulator.reset()\n",
    "ep_ret = 0\n",
    "ep_len = 0\n",
    "\n",
    "for step in range(1, 1000000+1):\n",
    "    start_time = time.time()\n",
    "    if step >= 10000:\n",
    "        moveInput, turnInput, log_probs = agent.get_action(obs)\n",
    "    else:\n",
    "        moveInput, turnInput = random.uniform(-1, 1), random.uniform(-1, 1)\n",
    "\n",
    "    next_obs, reward, done = simulator.step(moveInput, turnInput)\n",
    "    ep_ret += reward\n",
    "    ep_len += 1\n",
    "    done = False if ep_len==max_q_len else done\n",
    "    buffer.store(obs, [moveInput, turnInput], reward, next_obs, done)\n",
    "    obs = next_obs\n",
    "    \n",
    "    if done or (ep_len == max_q_len):\n",
    "        obs, _, done = simulator.reset()\n",
    "        print(ep_ret)\n",
    "        ep_ret = 0\n",
    "        ep_len = 0\n",
    "        \n",
    "    #elapsed_time = time.time() - start_time\n",
    "    #sleep_duration = target_frame_duration - elapsed_time\n",
    "    #if sleep_duration > 0:\n",
    "    #    time.sleep(sleep_duration)\n",
    "        \n",
    "    if step >= 10000 and step % 50 == 0:\n",
    "        simulator.pause()\n",
    "        for _ in range(50):\n",
    "            batch = buffer.sample_batch()\n",
    "            agent.update(batch)\n",
    "            \n",
    "        simulator.resume()\n",
    "simulator.pause()"
   ]
  },
  {
   "cell_type": "code",
   "execution_count": null,
   "metadata": {},
   "outputs": [],
   "source": [
    "simulator.shutdown()"
   ]
  }
 ],
 "metadata": {
  "kernelspec": {
   "display_name": "base",
   "language": "python",
   "name": "python3"
  },
  "language_info": {
   "codemirror_mode": {
    "name": "ipython",
    "version": 3
   },
   "file_extension": ".py",
   "mimetype": "text/x-python",
   "name": "python",
   "nbconvert_exporter": "python",
   "pygments_lexer": "ipython3",
   "version": "3.10.11"
  },
  "orig_nbformat": 4
 },
 "nbformat": 4,
 "nbformat_minor": 2
}
