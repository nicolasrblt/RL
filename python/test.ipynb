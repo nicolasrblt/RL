{
 "cells": [
  {
   "cell_type": "code",
   "execution_count": 1,
   "metadata": {},
   "outputs": [
    {
     "name": "stdout",
     "output_type": "stream",
     "text": [
      "<class 'sac.sac_agent.SACAgent'>\n",
      "<class 'sac.sac_env.SACEnv'>\n"
     ]
    }
   ],
   "source": [
    "import time\n",
    "import random\n",
    "import numpy as np\n",
    "import torch\n",
    "import json\n",
    "\n",
    "import messages\n",
    "from simulator import Simulator\n",
    "from agent import Agent\n",
    "from unity_env import UnityEnv"
   ]
  },
  {
   "cell_type": "code",
   "execution_count": 2,
   "metadata": {},
   "outputs": [],
   "source": [
    "simulator = Simulator(port=5004)"
   ]
  },
  {
   "cell_type": "code",
   "execution_count": 3,
   "metadata": {},
   "outputs": [],
   "source": [
    "env = UnityEnv(simulator, 9, 2, 1, lambda: 2*np.random.random((2,))-1, \"SimpleUnityEnv\")\n",
    "agent = Agent(env)"
   ]
  },
  {
   "cell_type": "code",
   "execution_count": null,
   "metadata": {},
   "outputs": [],
   "source": [
    "cp = torch.load(f\"save/{env.get_name()}/checkpoint.pt\")\n",
    "agent.policy.load_state_dict(cp['pi'])\n",
    "agent.q1.load_state_dict(cp['q1'])\n",
    "agent.q2.load_state_dict(cp['q2'])\n",
    "agent.replay_buffer = cp[\"replay_buffer\"]\n",
    "from_epoch = cp['epoch']"
   ]
  },
  {
   "cell_type": "code",
   "execution_count": 4,
   "metadata": {},
   "outputs": [],
   "source": [
    "simulator.start_server()\n",
    "serv = simulator.server"
   ]
  },
  {
   "cell_type": "code",
   "execution_count": 6,
   "metadata": {},
   "outputs": [],
   "source": [
    "env.set_time_scale(1)"
   ]
  },
  {
   "cell_type": "code",
   "execution_count": null,
   "metadata": {},
   "outputs": [],
   "source": [
    "agent.train(from_epoch=0, epoch_len=2000, start_steps=4000)"
   ]
  },
  {
   "cell_type": "code",
   "execution_count": null,
   "metadata": {},
   "outputs": [],
   "source": [
    "msg = messages.RequestMessage(\"test\", \"\").to_json()\n",
    "msg2 = messages.RequestMessage(\"timeScale\", messages.SingleFieldMessage(2.).to_json()).to_json()\n",
    "msg3 = messages.RequestMessage(\"pause\", messages.SingleFieldMessage(False).to_json()).to_json()\n",
    "msg4 = messages.RequestMessage(\"reset\", \"\").to_json()\n",
    "msg5 = messages.RequestMessage(\"step\", messages.ControllMessage(5, 5).to_json()).to_json()\n"
   ]
  },
  {
   "cell_type": "code",
   "execution_count": null,
   "metadata": {},
   "outputs": [],
   "source": [
    "simulator.server.clients[-1].socket.sendall(msg4.encode())"
   ]
  },
  {
   "cell_type": "code",
   "execution_count": null,
   "metadata": {},
   "outputs": [],
   "source": [
    "serv.clients[-1].socket.sendall(msg5.encode())\n",
    "time.sleep(0.02)"
   ]
  },
  {
   "cell_type": "code",
   "execution_count": 15,
   "metadata": {},
   "outputs": [
    {
     "name": "stdout",
     "output_type": "stream",
     "text": [
      "{'x': 0.0, 'y': 0.0, 'z': 0.0}\n",
      "{'x': 1e-06, 'y': 0.0, 'z': -0.0}\n",
      "{'x': -2.074452, 'y': -0.002044, 'z': -7.24097}\n",
      "{'x': -1.94594, 'y': -0.001406, 'z': -6.787168}\n",
      "{'x': -1.882703, 'y': -0.000866, 'z': -6.559699}\n",
      "{'x': -1.757893, 'y': -0.002393, 'z': -6.107535}\n",
      "{'x': -1.695966, 'y': -0.010908, 'z': -5.890994}\n",
      "{'x': -1.563354, 'y': -0.001278, 'z': -5.427142}\n",
      "{'x': -1.305213, 'y': -0.000813, 'z': -4.520866}\n",
      "{'x': -1.241622, 'y': -0.001358, 'z': -4.294851}\n",
      "{'x': -1.113838, 'y': -0.00142, 'z': -3.841708}\n",
      "{'x': -1.049804, 'y': -0.001406, 'z': -3.61512}\n",
      "{'x': -0.857034, 'y': -0.001226, 'z': -2.935373}\n",
      "{'x': -0.790266, 'y': -0.001637, 'z': -2.710112}\n",
      "{'x': -0.660603, 'y': -0.000184, 'z': -2.255612}\n",
      "{'x': -0.596208, 'y': -0.000704, 'z': -2.029793}\n",
      "{'x': -0.46643, 'y': -0.003423, 'z': -1.580539}\n",
      "{'x': -0.33495, 'y': -0.003181, 'z': -1.12808}\n",
      "{'x': -0.202654, 'y': -0.002823, 'z': -0.675714}\n",
      "{'x': -0.069414, 'y': -0.002477, 'z': -0.223636}\n",
      "{'x': -0.008594, 'y': -0.002173, 'z': -0.024776}\n",
      "{'x': 0.002515, 'y': -0.004405, 'z': 0.006371}\n",
      "{'x': -5e-06, 'y': -0.000104, 'z': -3.3e-05}\n",
      "{'x': -2.7e-05, 'y': -0.000106, 'z': -0.000104}\n",
      "{'x': -2e-06, 'y': -1e-06, 'z': -4e-06}\n",
      "{'x': 0.0, 'y': 0.0, 'z': 1e-06}\n",
      "{'x': 0.0, 'y': -3e-06, 'z': 0.0}\n",
      "{'x': -1e-06, 'y': -0.0, 'z': -1e-06}\n",
      "{'x': 0.0, 'y': -2e-06, 'z': -0.0}\n",
      "{'x': 0.0, 'y': 0.0, 'z': -0.0}\n",
      "{'x': 1e-06, 'y': 0.0, 'z': -0.0}\n",
      "{'x': -0.0, 'y': -2e-06, 'z': 0.0}\n",
      "{'x': 0.0, 'y': -0.0, 'z': 0.0}\n",
      "{'x': 1e-06, 'y': 0.0, 'z': -0.0}\n",
      "{'x': 1e-06, 'y': 0.0, 'z': -0.0}\n",
      "{'x': -1e-06, 'y': -4e-06, 'z': -0.0}\n",
      "{'x': 1e-06, 'y': -4e-06, 'z': -0.0}\n",
      "{'x': -1e-06, 'y': 0.0, 'z': 0.0}\n",
      "{'x': -0.0, 'y': 0.0, 'z': -0.0}\n",
      "{'x': 1e-06, 'y': 0.0, 'z': -0.0}\n",
      "{'x': -0.0, 'y': 1e-06, 'z': 0.0}\n",
      "{'x': -1e-06, 'y': 0.0, 'z': -2e-06}\n",
      "{'x': -0.0, 'y': 0.0, 'z': 1e-06}\n",
      "{'x': -0.0, 'y': -3e-06, 'z': 1e-06}\n",
      "{'x': 1e-06, 'y': 0.0, 'z': -1e-06}\n",
      "{'x': 0.0, 'y': 1e-06, 'z': -1e-06}\n",
      "{'x': 1e-06, 'y': -3e-06, 'z': 0.0}\n",
      "{'x': 0.0, 'y': -3e-06, 'z': -2e-06}\n",
      "{'x': 1e-06, 'y': -3e-06, 'z': 0.0}\n",
      "{'x': 1e-06, 'y': 1e-06, 'z': -1e-06}\n",
      "{'x': 0.0, 'y': 0.0, 'z': -0.0}\n",
      "{'x': 1e-06, 'y': 0.0, 'z': -1e-06}\n",
      "{'x': 1e-06, 'y': -4e-06, 'z': -1e-06}\n",
      "{'x': -0.0, 'y': -3e-06, 'z': -1e-06}\n",
      "{'x': -0.0, 'y': -4e-06, 'z': 1e-06}\n",
      "{'x': 1e-06, 'y': 1e-06, 'z': -0.0}\n",
      "{'x': 0.0, 'y': 1e-06, 'z': 0.0}\n",
      "{'x': 0.0, 'y': 1e-06, 'z': -0.0}\n",
      "{'x': 1e-06, 'y': 0.0, 'z': -1e-06}\n",
      "{'x': 1e-06, 'y': 0.0, 'z': -2e-06}\n",
      "{'x': 1e-06, 'y': 1e-06, 'z': -2e-06}\n",
      "{'x': -0.0, 'y': -4e-06, 'z': -1e-06}\n",
      "{'x': 1e-06, 'y': -4e-06, 'z': -0.0}\n",
      "{'x': 1e-06, 'y': 0.0, 'z': -0.0}\n",
      "{'x': 0.0, 'y': 0.0, 'z': -0.0}\n",
      "{'x': 0.0, 'y': 0.0, 'z': 0.0}\n",
      "{'x': 0.0, 'y': 0.0, 'z': -0.0}\n",
      "{'x': 1e-06, 'y': 0.0, 'z': -0.0}\n",
      "{'x': -0.0, 'y': 0.0, 'z': 0.0}\n",
      "{'x': 1e-06, 'y': -4e-06, 'z': -0.0}\n",
      "{'x': 1e-06, 'y': -4e-06, 'z': -1e-06}\n",
      "{'x': 0.0, 'y': -3e-06, 'z': -0.0}\n",
      "{'x': -1e-06, 'y': 0.0, 'z': 0.0}\n",
      "{'x': 1e-06, 'y': 0.0, 'z': -0.0}\n",
      "{'x': 1e-06, 'y': 1e-06, 'z': -0.0}\n",
      "{'x': 0.0, 'y': -3e-06, 'z': -0.0}\n",
      "{'x': 0.0, 'y': -1e-06, 'z': -0.0}\n",
      "{'x': -0.0, 'y': -1e-06, 'z': -0.0}\n",
      "{'x': 2e-06, 'y': 0.0, 'z': 0.0}\n",
      "{'x': 0.0, 'y': 0.0, 'z': -0.0}\n",
      "{'x': 0.0, 'y': 0.0, 'z': -0.0}\n",
      "{'x': -0.0, 'y': 0.0, 'z': -1e-06}\n",
      "{'x': -0.0, 'y': 1e-06, 'z': 0.0}\n",
      "{'x': 1e-06, 'y': -3e-06, 'z': -1e-06}\n",
      "{'x': -1e-06, 'y': -3e-06, 'z': 0.0}\n",
      "{'x': 0.0, 'y': 0.0, 'z': -1e-06}\n",
      "{'x': -0.0, 'y': -3e-06, 'z': 1e-06}\n",
      "{'x': 1e-06, 'y': -2e-06, 'z': -2e-06}\n",
      "{'x': -0.0, 'y': -2e-06, 'z': -1e-06}\n",
      "{'x': 0.0, 'y': -1e-06, 'z': -0.0}\n",
      "{'x': -0.0, 'y': -1e-06, 'z': -0.0}\n",
      "{'x': 1e-06, 'y': -3e-06, 'z': -1e-06}\n",
      "{'x': 1e-06, 'y': 0.0, 'z': -1e-06}\n",
      "{'x': 0.0, 'y': -4e-06, 'z': -0.0}\n",
      "{'x': 0.0, 'y': 1e-06, 'z': -0.0}\n",
      "{'x': 0.0, 'y': 0.0, 'z': -0.0}\n",
      "{'x': 0.0, 'y': 0.0, 'z': 0.0}\n",
      "{'x': 0.0, 'y': -2e-06, 'z': -0.0}\n",
      "{'x': 1e-06, 'y': -4e-06, 'z': -1e-06}\n",
      "{'x': 0.0, 'y': -4e-06, 'z': -0.0}\n",
      "{'x': 0.0, 'y': 1e-06, 'z': 0.0}\n",
      "{'x': 1e-06, 'y': 1e-06, 'z': -1e-06}\n"
     ]
    }
   ],
   "source": [
    "r = lambda d: {k:round(v, 6) for (k, v) in d.items()}\n",
    "\n",
    "print(r(simulator._reset().velocity))\n",
    "time.sleep(env.get_target_frame_duration())\n",
    "print(r(simulator._step(10, 0).velocity))\n",
    "for _ in range(100):\n",
    "    time.sleep(env.get_target_frame_duration())\n",
    "    print(r(simulator._step(0, 0).velocity))"
   ]
  },
  {
   "cell_type": "code",
   "execution_count": null,
   "metadata": {},
   "outputs": [],
   "source": [
    "\n",
    "response = messages.ResponseMessage.from_json(simulator.server.clients[-1].receive().decode())\n",
    "observation_message = messages.ObservationMessage.from_json(response.value)\n",
    "print(json.dumps(observation_message.__dict__, indent=4))"
   ]
  },
  {
   "cell_type": "code",
   "execution_count": null,
   "metadata": {},
   "outputs": [],
   "source": [
    "\n",
    "response = messages.ResponseMessage.from_json(simulator.server.clients[-1].receive().decode())\n",
    "observation_message = messages.ObservationMessage.from_json(response.value)\n",
    "print(json.dumps(observation_message.__dict__, indent=4))"
   ]
  },
  {
   "cell_type": "code",
   "execution_count": 26,
   "metadata": {},
   "outputs": [],
   "source": [
    "simulator.shutdown()\n",
    "serv.stop_server()"
   ]
  },
  {
   "cell_type": "code",
   "execution_count": null,
   "metadata": {},
   "outputs": [],
   "source": [
    "serv.server_socket.close()"
   ]
  },
  {
   "cell_type": "code",
   "execution_count": null,
   "metadata": {},
   "outputs": [],
   "source": [
    "simulator.server.clients = []"
   ]
  },
  {
   "cell_type": "code",
   "execution_count": null,
   "metadata": {},
   "outputs": [],
   "source": [
    "simulator.shutdown()"
   ]
  },
  {
   "cell_type": "code",
   "execution_count": null,
   "metadata": {},
   "outputs": [],
   "source": [
    "2*np.random.random((2,))-1"
   ]
  },
  {
   "cell_type": "code",
   "execution_count": null,
   "metadata": {},
   "outputs": [],
   "source": [
    "observation_message.redBallPosition,observation_message.agentPostion"
   ]
  },
  {
   "cell_type": "code",
   "execution_count": null,
   "metadata": {},
   "outputs": [],
   "source": [
    "simulator.server.clients[-1].receive()[0]"
   ]
  },
  {
   "cell_type": "code",
   "execution_count": null,
   "metadata": {},
   "outputs": [],
   "source": []
  }
 ],
 "metadata": {
  "kernelspec": {
   "display_name": "base",
   "language": "python",
   "name": "python3"
  },
  "language_info": {
   "codemirror_mode": {
    "name": "ipython",
    "version": 3
   },
   "file_extension": ".py",
   "mimetype": "text/x-python",
   "name": "python",
   "nbconvert_exporter": "python",
   "pygments_lexer": "ipython3",
   "version": "3.10.11"
  },
  "orig_nbformat": 4
 },
 "nbformat": 4,
 "nbformat_minor": 2
}
