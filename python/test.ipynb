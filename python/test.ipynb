{
 "cells": [
  {
   "cell_type": "code",
   "execution_count": 1,
   "metadata": {},
   "outputs": [],
   "source": [
    "import time\n",
    "import random\n",
    "import numpy as np\n",
    "import torch\n",
    "import json\n",
    "\n",
    "import messages\n",
    "from simulator import Simulator\n",
    "from agent import Agent\n",
    "from unity_env import UnityEnv\n",
    "import matplotlib.pyplot as plt"
   ]
  },
  {
   "cell_type": "code",
   "execution_count": 2,
   "metadata": {},
   "outputs": [],
   "source": [
    "simulator = Simulator(port=5004)"
   ]
  },
  {
   "cell_type": "code",
   "execution_count": 3,
   "metadata": {},
   "outputs": [],
   "source": [
    "env = UnityEnv(simulator, 9, 2, 1, lambda: 2*np.random.random((2,))-1, \"SimpleUnityEnv\")\n",
    "agent = Agent(env)"
   ]
  },
  {
   "cell_type": "code",
   "execution_count": null,
   "metadata": {},
   "outputs": [],
   "source": [
    "cp = torch.load(f\"save/{env.get_name()}/checkpoint.pt\")\n",
    "agent.policy.load_state_dict(cp['pi'])\n",
    "agent.q1.load_state_dict(cp['q1'])\n",
    "agent.q2.load_state_dict(cp['q2'])\n",
    "agent.replay_buffer = cp[\"replay_buffer\"]\n",
    "from_epoch = cp['epoch']"
   ]
  },
  {
   "cell_type": "code",
   "execution_count": 4,
   "metadata": {},
   "outputs": [
    {
     "name": "stdout",
     "output_type": "stream",
     "text": [
      "Accepted connection from <server.Client object at 0x7f7d6c0655d0>\n"
     ]
    }
   ],
   "source": [
    "simulator.start_server()\n",
    "serv = simulator.server"
   ]
  },
  {
   "cell_type": "code",
   "execution_count": 5,
   "metadata": {},
   "outputs": [],
   "source": [
    "env.set_time_scale(1)"
   ]
  },
  {
   "cell_type": "code",
   "execution_count": null,
   "metadata": {},
   "outputs": [],
   "source": [
    "serv.clients[0].socket.sendall(pre_data)"
   ]
  },
  {
   "cell_type": "code",
   "execution_count": null,
   "metadata": {},
   "outputs": [],
   "source": [
    "agent.train(from_epoch=0, epoch_len=2000, start_steps=4000)"
   ]
  },
  {
   "cell_type": "code",
   "execution_count": null,
   "metadata": {},
   "outputs": [],
   "source": [
    "ts_message = messages.SingleFieldMessage(20)\n",
    "message = messages.RequestMessage(\"timeScale\", ts_message.to_json())\n",
    "message = messages.RequestMessage(\"shutdown\", \"\")\n",
    "data = message.to_json().encode()\n",
    "data, (pre_data:=(len(data).to_bytes(4, 'little', signed=False))+data), len(data)"
   ]
  },
  {
   "cell_type": "code",
   "execution_count": null,
   "metadata": {},
   "outputs": [],
   "source": [
    "env.reset()"
   ]
  },
  {
   "cell_type": "code",
   "execution_count": null,
   "metadata": {},
   "outputs": [],
   "source": [
    "# stress test client :\n",
    "env.resume()\n",
    "x = []\n",
    "y1 = []\n",
    "y2 = []\n",
    "n = 200\n",
    "for ts in range(1, 25):\n",
    "    env.set_time_scale(ts)\n",
    "    env.reset()\n",
    "    t0 = time.time()\n",
    "    for _ in range(n):\n",
    "        #env.pause()\n",
    "        #env.resume()\n",
    "        env.step((1, 1))\n",
    "    t1 = time.time()\n",
    "    print(f\"ts : {ts} || {1000*(t1-t0)/n:.2f}msec/step (target={20/ts:.2f})\")\n",
    "    x.append(ts)\n",
    "    y1.append(1000*(t1-t0)/n)\n",
    "    y2.append(20/ts)\n",
    "simulator.shutdown()\n",
    "serv.clients = []"
   ]
  },
  {
   "cell_type": "code",
   "execution_count": 102,
   "metadata": {},
   "outputs": [
    {
     "data": {
      "image/png": "[encoded data removed]",
      "text/plain": [
       "<Figure size 640x480 with 1 Axes>"
      ]
     },
     "metadata": {},
     "output_type": "display_data"
    },
    {
     "name": "stdout",
     "output_type": "stream",
     "text": [
      "Accepted connection from <server.Client object at 0x7f7c8c1807f0>\n"
     ]
    }
   ],
   "source": [
    "plt.plot(x, [1/z for z in y1])\n",
    "plt.plot(x, [1/z for z in y2])\n",
    "plt.plot(x, [0.5/z for z in y2])\n",
    "plt.show()"
   ]
  },
  {
   "cell_type": "code",
   "execution_count": 76,
   "metadata": {},
   "outputs": [],
   "source": [
    "env.resume()\n",
    "#env.reset()\n",
    "for i in range(5):\n",
    "    env.step((1, 0))\n",
    "env.pause()"
   ]
  },
  {
   "cell_type": "code",
   "execution_count": 52,
   "metadata": {},
   "outputs": [
    {
     "data": {
      "text/plain": [
       "(tensor([ 0.1846,  0.5015,  0.1063,  0.0645,  0.0736, -0.3445,  0.1488, -0.4067,\n",
       "          0.6449]),\n",
       " -0.08402927964925766,\n",
       " False,\n",
       " False)"
      ]
     },
     "execution_count": 52,
     "metadata": {},
     "output_type": "execute_result"
    }
   ],
   "source": [
    "env.step((0,0))"
   ]
  },
  {
   "cell_type": "code",
   "execution_count": 58,
   "metadata": {},
   "outputs": [],
   "source": [
    "env.pause()"
   ]
  },
  {
   "cell_type": "code",
   "execution_count": null,
   "metadata": {},
   "outputs": [],
   "source": [
    "feat = agent.policy.net(obs)\n",
    "mu = agent.policy.mu_layer(feat)\n",
    "log_std = agent.policy.log_std_layer(feat)\n",
    "std = torch.exp(log_std)\n",
    "\n",
    "mu, std, log_std"
   ]
  },
  {
   "cell_type": "code",
   "execution_count": null,
   "metadata": {},
   "outputs": [],
   "source": [
    "msg = messages.RequestMessage(\"test\", \"\").to_json()\n",
    "msg2 = messages.RequestMessage(\"timeScale\", messages.SingleFieldMessage(2.).to_json()).to_json()\n",
    "msg3 = messages.RequestMessage(\"pause\", messages.SingleFieldMessage(False).to_json()).to_json()\n",
    "msg4 = messages.RequestMessage(\"reset\", \"\").to_json()\n",
    "msg5 = messages.RequestMessage(\"step\", messages.ControllMessage(5, 5).to_json()).to_json()\n"
   ]
  },
  {
   "cell_type": "code",
   "execution_count": null,
   "metadata": {},
   "outputs": [],
   "source": [
    "r = lambda d: {k:round(v, 5) for (k, v) in d.items()}\n",
    "\n",
    "print(r(simulator._reset().velocity))\n",
    "time.sleep(env.get_target_frame_duration())\n",
    "print(r(simulator._step(10, 1).velocity))\n",
    "for _ in range(3):\n",
    "    #time.sleep(env.get_target_frame_duration())\n",
    "    print(r(simulator._step(0, 1).velocity))\n",
    "simulator.shutdown()\n",
    "simulator.server.clients = []"
   ]
  },
  {
   "cell_type": "code",
   "execution_count": null,
   "metadata": {},
   "outputs": [],
   "source": [
    "simulator.server.stop_server()"
   ]
  },
  {
   "cell_type": "code",
   "execution_count": 89,
   "metadata": {},
   "outputs": [],
   "source": [
    "simulator.shutdown()\n",
    "#simulator.server.clients = []"
   ]
  },
  {
   "cell_type": "code",
   "execution_count": 105,
   "metadata": {},
   "outputs": [],
   "source": [
    "simulator.server.clients = []"
   ]
  },
  {
   "cell_type": "code",
   "execution_count": null,
   "metadata": {},
   "outputs": [],
   "source": []
  }
 ],
 "metadata": {
  "kernelspec": {
   "display_name": "base",
   "language": "python",
   "name": "python3"
  },
  "language_info": {
   "codemirror_mode": {
    "name": "ipython",
    "version": 3
   },
   "file_extension": ".py",
   "mimetype": "text/x-python",
   "name": "python",
   "nbconvert_exporter": "python",
   "pygments_lexer": "ipython3",
   "version": "3.10.11"
  },
  "orig_nbformat": 4
 },
 "nbformat": 4,
 "nbformat_minor": 2
}
