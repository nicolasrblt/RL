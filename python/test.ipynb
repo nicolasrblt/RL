{
 "cells": [
  {
   "cell_type": "code",
   "execution_count": 1,
   "metadata": {},
   "outputs": [
    {
     "name": "stdout",
     "output_type": "stream",
     "text": [
      "<class 'sac.sac_agent.SACAgent'>\n",
      "<class 'sac.sac_env.SACEnv'>\n"
     ]
    }
   ],
   "source": [
    "import time\n",
    "import random\n",
    "import numpy as np\n",
    "\n",
    "import messages\n",
    "from simulator import Simulator\n",
    "from agent import Agent\n",
    "from unity_env import UnityEnv"
   ]
  },
  {
   "cell_type": "code",
   "execution_count": 7,
   "metadata": {},
   "outputs": [],
   "source": [
    "simulator = Simulator(port=5004)\n",
    "env = UnityEnv(simulator, 9, 2, 1, lambda: np.random.random((2,)))\n",
    "agent = Agent(env)\n",
    "#buffer = ReplayBuffer(17, 2, int(1e6))"
   ]
  },
  {
   "cell_type": "code",
   "execution_count": 8,
   "metadata": {},
   "outputs": [
    {
     "name": "stdout",
     "output_type": "stream",
     "text": [
      "Accepted connection from <server.Client object at 0x7f80c0e5ec80>\n"
     ]
    }
   ],
   "source": [
    "simulator.start_server()"
   ]
  },
  {
   "cell_type": "code",
   "execution_count": 57,
   "metadata": {},
   "outputs": [
    {
     "name": "stdout",
     "output_type": "stream",
     "text": [
      "{\"agentPostion\": {\"x\": -4.5772385597229, \"y\": 0.29999998211860657, \"z\": -4.425022602081299}, \"agentRotation\": {\"x\": -2.1524468252209772e-07, \"y\": 350.4110107421875, \"z\": 1.7200491697622056e-07}, \"velocity\": {\"x\": 7.0524324158327545e-09, \"y\": -1.4901161193847656e-08, \"z\": -2.3770390100708028e-08}, \"angularVelocity\": {\"x\": -5.719068241205605e-08, \"y\": 3.0309017517993198e-09, \"z\": -1.7976729438373695e-08}, \"redBallPosition\": {\"x\": 2.3822999000549316, \"y\": 0.25000008940696716, \"z\": 2.8051974773406982}, \"blueBallPosition\": {\"x\": 0.9334774613380432, \"y\": -10.0, \"z\": 2.549999952316284}, \"greenBallPosition\": {\"x\": 0.9334774613380432, \"y\": -10.0, \"z\": -4.090000152587891}, \"grayAreaPosition\": {\"x\": 1.5708506107330322, \"y\": 0.009999999776482582, \"z\": 4.366196155548096}, \"orangeAreaPosition\": {\"x\": 5.53000020980835, \"y\": -10.0, \"z\": 3.6500000953674316}, \"whiteAreaPosition\": {\"x\": -6.53000020980835, \"y\": -10.0, \"z\": -0.3357459604740143}, \"terminate\": false, \"reward\": 0.0}\n"
     ]
    }
   ],
   "source": [
    "control_message = messages.ControllMessage(0, 10)\n",
    "message = messages.RequestMessage(\"step\", control_message.to_json())\n",
    "\n",
    "simulator.server.send([message.to_json()])\n",
    "\n",
    "response = messages.ResponseMessage.from_json(simulator.server.recive()[0])\n",
    "observation_message = messages.ObservationMessage.from_json(response.value)\n",
    "print(observation_message.to_json())\n"
   ]
  },
  {
   "cell_type": "code",
   "execution_count": 58,
   "metadata": {},
   "outputs": [
    {
     "ename": "KeyboardInterrupt",
     "evalue": "",
     "output_type": "error",
     "traceback": [
      "\u001b[0;31m---------------------------------------------------------------------------\u001b[0m",
      "\u001b[0;31mKeyboardInterrupt\u001b[0m                         Traceback (most recent call last)",
      "Cell \u001b[0;32mIn[58], line 1\u001b[0m\n\u001b[0;32m----> 1\u001b[0m simulator\u001b[39m.\u001b[39;49mserver\u001b[39m.\u001b[39;49mrecive()\n",
      "File \u001b[0;32m~/Documents/CVUT/RL/python/server.py:55\u001b[0m, in \u001b[0;36mServer.recive\u001b[0;34m(self)\u001b[0m\n\u001b[1;32m     53\u001b[0m messeges \u001b[39m=\u001b[39m []\n\u001b[1;32m     54\u001b[0m \u001b[39mfor\u001b[39;00m client \u001b[39min\u001b[39;00m \u001b[39mself\u001b[39m\u001b[39m.\u001b[39mclients:\n\u001b[0;32m---> 55\u001b[0m     message \u001b[39m=\u001b[39m client\u001b[39m.\u001b[39;49mreceive()\u001b[39m.\u001b[39mdecode()\n\u001b[1;32m     56\u001b[0m     messeges\u001b[39m.\u001b[39mappend(message)\n\u001b[1;32m     57\u001b[0m \u001b[39mreturn\u001b[39;00m messeges\n",
      "File \u001b[0;32m~/Documents/CVUT/RL/python/server.py:17\u001b[0m, in \u001b[0;36mClient.receive\u001b[0;34m(self, buffer_size)\u001b[0m\n\u001b[1;32m     15\u001b[0m data \u001b[39m=\u001b[39m \u001b[39mb\u001b[39m\u001b[39m'\u001b[39m\u001b[39m'\u001b[39m\n\u001b[1;32m     16\u001b[0m \u001b[39mwhile\u001b[39;00m \u001b[39mTrue\u001b[39;00m:\n\u001b[0;32m---> 17\u001b[0m     part \u001b[39m=\u001b[39m \u001b[39mself\u001b[39;49m\u001b[39m.\u001b[39;49msocket\u001b[39m.\u001b[39;49mrecv(buffer_size)\n\u001b[1;32m     18\u001b[0m     data \u001b[39m+\u001b[39m\u001b[39m=\u001b[39m part\n\u001b[1;32m     19\u001b[0m     \u001b[39mif\u001b[39;00m \u001b[39mlen\u001b[39m(part) \u001b[39m<\u001b[39m buffer_size:\n",
      "\u001b[0;31mKeyboardInterrupt\u001b[0m: "
     ]
    }
   ],
   "source": [
    "simulator.server.recive()"
   ]
  },
  {
   "cell_type": "code",
   "execution_count": 11,
   "metadata": {},
   "outputs": [],
   "source": [
    "simulator.server.clients[-1].socket.sendall(b\"foo\")"
   ]
  },
  {
   "cell_type": "code",
   "execution_count": 9,
   "metadata": {},
   "outputs": [
    {
     "name": "stdout",
     "output_type": "stream",
     "text": [
      "obs : [0.377196741104126, -0.6436704635620117, 0.0070395999484592015, 0.0, 0.0, 0.5124834060668946, 0.5466055870056152, 0.5073887348175049, -0.5205229759216309]\n",
      "obs : [0.377196741104126, -0.6436704635620117, 0.007039728429582384, -1.7876868696475868e-08, -1.9797880668193102e-08, 0.5124834060668946, 0.5466055870056152, 0.5073887348175049, -0.5205229759216309]\n",
      "obs : [0.5104188919067383, -0.5220325469970704, 0.7736818101671007, 0.0, 0.0, 0.6302869319915771, -0.4059588432312012, 0.6302869319915771, -0.4059588432312012]\n"
     ]
    },
    {
     "ename": "IndexError",
     "evalue": "index 1 is out of bounds for axis 0 with size 1",
     "output_type": "error",
     "traceback": [
      "\u001b[0;31m---------------------------------------------------------------------------\u001b[0m",
      "\u001b[0;31mIndexError\u001b[0m                                Traceback (most recent call last)",
      "Cell \u001b[0;32mIn[9], line 1\u001b[0m\n\u001b[0;32m----> 1\u001b[0m agent\u001b[39m.\u001b[39;49mtrain()\n",
      "File \u001b[0;32m~/Documents/CVUT/RL/python/sac/sac_agent.py:84\u001b[0m, in \u001b[0;36mSACAgent.train\u001b[0;34m(self, seed, from_epoch, **training_params)\u001b[0m\n\u001b[1;32m     82\u001b[0m \u001b[39m# show epoch stats and save checkpoint on epoch end\u001b[39;00m\n\u001b[1;32m     83\u001b[0m \u001b[39mif\u001b[39;00m t \u001b[39m%\u001b[39m \u001b[39mself\u001b[39m\u001b[39m.\u001b[39mparam\u001b[39m.\u001b[39mepoch_len \u001b[39m==\u001b[39m \u001b[39m0\u001b[39m \u001b[39mand\u001b[39;00m t \u001b[39m>\u001b[39m\u001b[39m=\u001b[39m \u001b[39m0\u001b[39m:\n\u001b[0;32m---> 84\u001b[0m     avg_rew, avg_len \u001b[39m=\u001b[39m \u001b[39mself\u001b[39;49m\u001b[39m.\u001b[39;49mtest()\n\u001b[1;32m     85\u001b[0m     \u001b[39mprint\u001b[39m(\u001b[39mf\u001b[39m\u001b[39m\"\u001b[39m\u001b[39m=== epoch \u001b[39m\u001b[39m{\u001b[39;00mt\u001b[39m/\u001b[39m\u001b[39m/\u001b[39m\u001b[39mself\u001b[39m\u001b[39m.\u001b[39mparam\u001b[39m.\u001b[39mepoch_len\u001b[39m}\u001b[39;00m\u001b[39m || avg rew : \u001b[39m\u001b[39m{\u001b[39;00mavg_rew\u001b[39m}\u001b[39;00m\u001b[39m || avg len : \u001b[39m\u001b[39m{\u001b[39;00mavg_len\u001b[39m}\u001b[39;00m\u001b[39m\"\u001b[39m)\n\u001b[1;32m     86\u001b[0m     \u001b[39mself\u001b[39m\u001b[39m.\u001b[39mcheckpoint(t)\n",
      "File \u001b[0;32m~/Documents/CVUT/RL/python/sac/sac_agent.py:161\u001b[0m, in \u001b[0;36mSACAgent.test\u001b[0;34m(self, max_ep)\u001b[0m\n\u001b[1;32m    158\u001b[0m tot_len \u001b[39m=\u001b[39m \u001b[39m0\u001b[39m\n\u001b[1;32m    160\u001b[0m \u001b[39mwhile\u001b[39;00m ep \u001b[39m<\u001b[39m max_ep:\n\u001b[0;32m--> 161\u001b[0m     act \u001b[39m=\u001b[39m \u001b[39mself\u001b[39;49m\u001b[39m.\u001b[39;49mget_action(obs)\n\u001b[1;32m    162\u001b[0m     obs, rew, terminated, truncated, \u001b[39m*\u001b[39m_ \u001b[39m=\u001b[39m \u001b[39mself\u001b[39m\u001b[39m.\u001b[39menv\u001b[39m.\u001b[39mstep(act)\n\u001b[1;32m    163\u001b[0m     done \u001b[39m=\u001b[39m terminated \u001b[39mor\u001b[39;00m truncated\n",
      "File \u001b[0;32m~/Documents/CVUT/RL/python/agent.py:7\u001b[0m, in \u001b[0;36mAgent.get_action\u001b[0;34m(self, obs, probabilistic)\u001b[0m\n\u001b[1;32m      5\u001b[0m \u001b[39mdef\u001b[39;00m \u001b[39mget_action\u001b[39m(\u001b[39mself\u001b[39m, obs, probabilistic\u001b[39m=\u001b[39m\u001b[39mTrue\u001b[39;00m):\n\u001b[1;32m      6\u001b[0m     act \u001b[39m=\u001b[39m \u001b[39msuper\u001b[39m()\u001b[39m.\u001b[39mget_action(obs, probabilistic)\n\u001b[0;32m----> 7\u001b[0m     \u001b[39mreturn\u001b[39;00m act[\u001b[39m0\u001b[39m], act[\u001b[39m1\u001b[39;49m]\n",
      "\u001b[0;31mIndexError\u001b[0m: index 1 is out of bounds for axis 0 with size 1"
     ]
    }
   ],
   "source": [
    "agent.train()"
   ]
  },
  {
   "cell_type": "code",
   "execution_count": null,
   "metadata": {},
   "outputs": [],
   "source": [
    "target_fps = 50\n",
    "target_frame_duration = 1 / target_fps\n",
    "\n",
    "max_q_len = 1000\n",
    "simulator.resume()\n",
    "time.sleep(0.1)\n",
    "obs, _, done = simulator.reset()\n",
    "ep_ret = 0\n",
    "ep_len = 0\n",
    "\n",
    "for step in range(1, 1000000+1):\n",
    "    start_time = time.time()\n",
    "    if step >= 10000:\n",
    "        moveInput, turnInput, log_probs = agent.get_action(obs)\n",
    "    else:\n",
    "        moveInput, turnInput = random.uniform(-1, 1), random.uniform(-1, 1)\n",
    "\n",
    "    next_obs, reward, done = simulator.step(moveInput, turnInput)\n",
    "    ep_ret += reward\n",
    "    ep_len += 1\n",
    "    done = False if ep_len==max_q_len else done\n",
    "    buffer.store(obs, [moveInput, turnInput], reward, next_obs, done)\n",
    "    obs = next_obs\n",
    "    \n",
    "    if done or (ep_len == max_q_len):\n",
    "        obs, _, done = simulator.reset()\n",
    "        print(ep_ret)\n",
    "        ep_ret = 0\n",
    "        ep_len = 0\n",
    "        \n",
    "    #elapsed_time = time.time() - start_time\n",
    "    #sleep_duration = target_frame_duration - elapsed_time\n",
    "    #if sleep_duration > 0:\n",
    "    #    time.sleep(sleep_duration)\n",
    "        \n",
    "    if step >= 10000 and step % 50 == 0:\n",
    "        simulator.pause()\n",
    "        for _ in range(50):\n",
    "            batch = buffer.sample_batch()\n",
    "            agent.update(batch)\n",
    "            \n",
    "        simulator.resume()\n",
    "simulator.pause()"
   ]
  },
  {
   "cell_type": "code",
   "execution_count": null,
   "metadata": {},
   "outputs": [],
   "source": [
    "simulator.shutdown()"
   ]
  }
 ],
 "metadata": {
  "kernelspec": {
   "display_name": "base",
   "language": "python",
   "name": "python3"
  },
  "language_info": {
   "codemirror_mode": {
    "name": "ipython",
    "version": 3
   },
   "file_extension": ".py",
   "mimetype": "text/x-python",
   "name": "python",
   "nbconvert_exporter": "python",
   "pygments_lexer": "ipython3",
   "version": "3.10.11"
  },
  "orig_nbformat": 4
 },
 "nbformat": 4,
 "nbformat_minor": 2
}
