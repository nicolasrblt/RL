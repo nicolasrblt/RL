{
 "cells": [
  {
   "cell_type": "code",
   "execution_count": 1,
   "metadata": {},
   "outputs": [
    {
     "name": "stdout",
     "output_type": "stream",
     "text": [
      "<class 'sac.sac_agent.SACAgent'>\n",
      "<class 'sac.sac_env.SACEnv'>\n"
     ]
    }
   ],
   "source": [
    "import time\n",
    "import random\n",
    "import numpy as np\n",
    "import torch\n",
    "import json\n",
    "\n",
    "import messages\n",
    "from simulator import Simulator\n",
    "from agent import Agent\n",
    "from unity_env import UnityEnv"
   ]
  },
  {
   "cell_type": "code",
   "execution_count": 16,
   "metadata": {},
   "outputs": [],
   "source": [
    "simulator = Simulator(port=5004)"
   ]
  },
  {
   "cell_type": "code",
   "execution_count": 17,
   "metadata": {},
   "outputs": [],
   "source": [
    "env = UnityEnv(simulator, 9, 2, 1, lambda: 2*np.random.random((2,))-1, \"SimpleUnityEnv\")\n",
    "agent = Agent(env)"
   ]
  },
  {
   "cell_type": "code",
   "execution_count": null,
   "metadata": {},
   "outputs": [],
   "source": [
    "cp = torch.load(f\"save/{env.get_name()}/checkpoint.pt\")\n",
    "agent.policy.load_state_dict(cp['pi'])\n",
    "agent.q1.load_state_dict(cp['q1'])\n",
    "agent.q2.load_state_dict(cp['q2'])\n",
    "agent.replay_buffer = cp[\"replay_buffer\"]\n",
    "from_epoch = cp['epoch']"
   ]
  },
  {
   "cell_type": "code",
   "execution_count": 18,
   "metadata": {},
   "outputs": [
    {
     "name": "stdout",
     "output_type": "stream",
     "text": [
      "Accepted connection from <server.Client object at 0x7fd1959d56f0>\n"
     ]
    }
   ],
   "source": [
    "simulator.start_server()\n",
    "serv = simulator.server"
   ]
  },
  {
   "cell_type": "code",
   "execution_count": 19,
   "metadata": {},
   "outputs": [],
   "source": [
    "env.set_time_scale(20)"
   ]
  },
  {
   "cell_type": "code",
   "execution_count": 20,
   "metadata": {},
   "outputs": [
    {
     "name": "stdout",
     "output_type": "stream",
     "text": [
      "=== epoch 0 || avg rew : 0.07539238929748535 || avg len : 78.6\n",
      "=== epoch 1 || avg rew : 7.20237922668457 || avg len : 109.2\n"
     ]
    }
   ],
   "source": [
    "agent.train(from_epoch=0, epoch_len=2000, start_steps=4000)"
   ]
  },
  {
   "cell_type": "code",
   "execution_count": null,
   "metadata": {},
   "outputs": [],
   "source": [
    "msg = messages.RequestMessage(\"test\", \"\").to_json()\n",
    "msg2 = messages.RequestMessage(\"timeScale\", messages.SingleFieldMessage(2.).to_json()).to_json()\n",
    "msg3 = messages.RequestMessage(\"pause\", messages.SingleFieldMessage(False).to_json()).to_json()\n",
    "msg4 = messages.RequestMessage(\"reset\", \"\").to_json()\n",
    "msg5 = messages.RequestMessage(\"step\", messages.ControllMessage(5, 5).to_json()).to_json()\n"
   ]
  },
  {
   "cell_type": "code",
   "execution_count": 52,
   "metadata": {},
   "outputs": [
    {
     "ename": "IndexError",
     "evalue": "list index out of range",
     "output_type": "error",
     "traceback": [
      "\u001b[0;31m---------------------------------------------------------------------------\u001b[0m",
      "\u001b[0;31mIndexError\u001b[0m                                Traceback (most recent call last)",
      "Cell \u001b[0;32mIn[52], line 3\u001b[0m\n\u001b[1;32m      1\u001b[0m r \u001b[39m=\u001b[39m \u001b[39mlambda\u001b[39;00m d: {k:\u001b[39mround\u001b[39m(v, \u001b[39m5\u001b[39m) \u001b[39mfor\u001b[39;00m (k, v) \u001b[39min\u001b[39;00m d\u001b[39m.\u001b[39mitems()}\n\u001b[0;32m----> 3\u001b[0m \u001b[39mprint\u001b[39m(r(simulator\u001b[39m.\u001b[39;49m_reset()\u001b[39m.\u001b[39mvelocity))\n\u001b[1;32m      4\u001b[0m time\u001b[39m.\u001b[39msleep(env\u001b[39m.\u001b[39mget_target_frame_duration())\n\u001b[1;32m      5\u001b[0m \u001b[39mprint\u001b[39m(r(simulator\u001b[39m.\u001b[39m_step(\u001b[39m10\u001b[39m, \u001b[39m1\u001b[39m)\u001b[39m.\u001b[39mvelocity))\n",
      "File \u001b[0;32m~/Documents/CVUT/RL/python/simulator.py:69\u001b[0m, in \u001b[0;36mSimulator._reset\u001b[0;34m(self)\u001b[0m\n\u001b[1;32m     65\u001b[0m message \u001b[39m=\u001b[39m messages\u001b[39m.\u001b[39mRequestMessage(\u001b[39m\"\u001b[39m\u001b[39mreset\u001b[39m\u001b[39m\"\u001b[39m, \u001b[39m\"\u001b[39m\u001b[39m\"\u001b[39m)\n\u001b[1;32m     67\u001b[0m \u001b[39mself\u001b[39m\u001b[39m.\u001b[39mserver\u001b[39m.\u001b[39msend([message\u001b[39m.\u001b[39mto_json()])\n\u001b[0;32m---> 69\u001b[0m response \u001b[39m=\u001b[39m messages\u001b[39m.\u001b[39mResponseMessage\u001b[39m.\u001b[39mfrom_json(\u001b[39mself\u001b[39;49m\u001b[39m.\u001b[39;49mserver\u001b[39m.\u001b[39;49mrecive()[\u001b[39m0\u001b[39;49m])\n\u001b[1;32m     70\u001b[0m observation_message \u001b[39m=\u001b[39m messages\u001b[39m.\u001b[39mObservationMessage\u001b[39m.\u001b[39mfrom_json(response\u001b[39m.\u001b[39mvalue)\n\u001b[1;32m     72\u001b[0m \u001b[39mreturn\u001b[39;00m observation_message\n",
      "\u001b[0;31mIndexError\u001b[0m: list index out of range"
     ]
    },
    {
     "name": "stdout",
     "output_type": "stream",
     "text": [
      "Accepted connection from <server.Client object at 0x7fd6a5d6ffa0>\n"
     ]
    }
   ],
   "source": [
    "r = lambda d: {k:round(v, 5) for (k, v) in d.items()}\n",
    "\n",
    "print(r(simulator._reset().velocity))\n",
    "time.sleep(env.get_target_frame_duration())\n",
    "print(r(simulator._step(10, 1).velocity))\n",
    "for _ in range(3):\n",
    "    #time.sleep(env.get_target_frame_duration())\n",
    "    print(r(simulator._step(0, 1).velocity))\n",
    "simulator.shutdown()\n",
    "simulator.server.clients = []"
   ]
  },
  {
   "cell_type": "code",
   "execution_count": 10,
   "metadata": {},
   "outputs": [],
   "source": [
    "serv.stop_server()"
   ]
  },
  {
   "cell_type": "code",
   "execution_count": 7,
   "metadata": {},
   "outputs": [
    {
     "name": "stdout",
     "output_type": "stream",
     "text": [
      "Accepted connection from <server.Client object at 0x7fd11cc34d60>\n"
     ]
    }
   ],
   "source": [
    "simulator.shutdown()\n",
    "simulator.server.clients = []"
   ]
  },
  {
   "cell_type": "code",
   "execution_count": 55,
   "metadata": {},
   "outputs": [
    {
     "name": "stdout",
     "output_type": "stream",
     "text": [
      "Accepted connection from <server.Client object at 0x7fd5cab9b2e0>\n"
     ]
    }
   ],
   "source": [
    "simulator.server.clients = []"
   ]
  },
  {
   "cell_type": "code",
   "execution_count": null,
   "metadata": {},
   "outputs": [],
   "source": []
  }
 ],
 "metadata": {
  "kernelspec": {
   "display_name": "base",
   "language": "python",
   "name": "python3"
  },
  "language_info": {
   "codemirror_mode": {
    "name": "ipython",
    "version": 3
   },
   "file_extension": ".py",
   "mimetype": "text/x-python",
   "name": "python",
   "nbconvert_exporter": "python",
   "pygments_lexer": "ipython3",
   "version": "3.10.11"
  },
  "orig_nbformat": 4
 },
 "nbformat": 4,
 "nbformat_minor": 2
}
