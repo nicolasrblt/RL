{
 "cells": [
  {
   "cell_type": "code",
   "execution_count": 1,
   "metadata": {},
   "outputs": [
    {
     "name": "stdout",
     "output_type": "stream",
     "text": [
      "<class 'sac.sac_agent.SACAgent'>\n",
      "<class 'sac.sac_env.SACEnv'>\n"
     ]
    }
   ],
   "source": [
    "import time\n",
    "import random\n",
    "import numpy as np\n",
    "\n",
    "import messages\n",
    "from simulator import Simulator\n",
    "from agent import Agent\n",
    "from unity_env import UnityEnv"
   ]
  },
  {
   "cell_type": "code",
   "execution_count": 2,
   "metadata": {},
   "outputs": [],
   "source": [
    "simulator = Simulator(port=5004)\n",
    "#env = UnityEnv(simulator, 9, 2, 1, lambda: np.random.random((2,)))\n",
    "#agent = Agent(env)\n",
    "#buffer = ReplayBuffer(17, 2, int(1e6))"
   ]
  },
  {
   "cell_type": "code",
   "execution_count": 3,
   "metadata": {},
   "outputs": [],
   "source": [
    "simulator.start_server()\n",
    "serv = simulator.server"
   ]
  },
  {
   "cell_type": "code",
   "execution_count": 54,
   "metadata": {},
   "outputs": [],
   "source": [
    "import json\n",
    "from messages.controll_message import ControllMessage\n",
    "class SingleFieldMessage:\n",
    "    def __init__(self, x) -> None:\n",
    "        self.value = x\n",
    "    def to_json(self):\n",
    "        return json.dumps(self.__dict__)\n",
    "    \n",
    "\n",
    "msg = messages.RequestMessage(\"test\", \"\").to_json()\n",
    "msg2 = messages.RequestMessage(\"timeScale\", SingleFieldMessage(20.).to_json()).to_json()\n",
    "msg3 = messages.RequestMessage(\"pause\", SingleFieldMessage(False).to_json()).to_json()\n",
    "msg4 = messages.RequestMessage(\"reset\", \"\").to_json()\n",
    "msg5 = messages.RequestMessage(\"step\", ControllMessage(10, 20).to_json()).to_json()\n"
   ]
  },
  {
   "cell_type": "code",
   "execution_count": 50,
   "metadata": {},
   "outputs": [],
   "source": [
    "serv.clients[-1].socket.sendall(msg.encode())"
   ]
  },
  {
   "cell_type": "code",
   "execution_count": 48,
   "metadata": {},
   "outputs": [],
   "source": [
    "serv.clients[-1].socket.sendall(msg2.encode())"
   ]
  },
  {
   "cell_type": "code",
   "execution_count": 55,
   "metadata": {},
   "outputs": [],
   "source": [
    "serv.clients[-1].socket.sendall(msg3.encode())"
   ]
  },
  {
   "cell_type": "code",
   "execution_count": 56,
   "metadata": {},
   "outputs": [],
   "source": [
    "serv.clients[-1].socket.sendall(msg4.encode())"
   ]
  },
  {
   "cell_type": "code",
   "execution_count": 57,
   "metadata": {},
   "outputs": [],
   "source": [
    "serv.clients[-1].socket.sendall(msg5.encode())"
   ]
  },
  {
   "cell_type": "code",
   "execution_count": null,
   "metadata": {},
   "outputs": [],
   "source": [
    "simulator.server.clients[-1].socket.sendall(b\"foo\")"
   ]
  },
  {
   "cell_type": "code",
   "execution_count": null,
   "metadata": {},
   "outputs": [],
   "source": [
    "control_message = messages.ControllMessage(0, 10)\n",
    "message = messages.RequestMessage(\"step\", control_message.to_json())\n",
    "\n",
    "simulator.server.send([message.to_json()])\n",
    "\n",
    "response = messages.ResponseMessage.from_json(simulator.server.recive()[0])\n",
    "observation_message = messages.ObservationMessage.from_json(response.value)\n",
    "print(observation_message.to_json())\n"
   ]
  },
  {
   "cell_type": "code",
   "execution_count": 18,
   "metadata": {},
   "outputs": [
    {
     "ename": "KeyboardInterrupt",
     "evalue": "",
     "output_type": "error",
     "traceback": [
      "\u001b[0;31m---------------------------------------------------------------------------\u001b[0m",
      "\u001b[0;31mKeyboardInterrupt\u001b[0m                         Traceback (most recent call last)",
      "Cell \u001b[0;32mIn[18], line 1\u001b[0m\n\u001b[0;32m----> 1\u001b[0m simulator\u001b[39m.\u001b[39;49mserver\u001b[39m.\u001b[39;49mrecive()\n",
      "File \u001b[0;32m~/Documents/CVUT/RL/python/server.py:55\u001b[0m, in \u001b[0;36mServer.recive\u001b[0;34m(self)\u001b[0m\n\u001b[1;32m     53\u001b[0m messeges \u001b[39m=\u001b[39m []\n\u001b[1;32m     54\u001b[0m \u001b[39mfor\u001b[39;00m client \u001b[39min\u001b[39;00m \u001b[39mself\u001b[39m\u001b[39m.\u001b[39mclients:\n\u001b[0;32m---> 55\u001b[0m     message \u001b[39m=\u001b[39m client\u001b[39m.\u001b[39;49mreceive()\u001b[39m.\u001b[39mdecode()\n\u001b[1;32m     56\u001b[0m     messeges\u001b[39m.\u001b[39mappend(message)\n\u001b[1;32m     57\u001b[0m \u001b[39mreturn\u001b[39;00m messeges\n",
      "File \u001b[0;32m~/Documents/CVUT/RL/python/server.py:17\u001b[0m, in \u001b[0;36mClient.receive\u001b[0;34m(self, buffer_size)\u001b[0m\n\u001b[1;32m     15\u001b[0m data \u001b[39m=\u001b[39m \u001b[39mb\u001b[39m\u001b[39m'\u001b[39m\u001b[39m'\u001b[39m\n\u001b[1;32m     16\u001b[0m \u001b[39mwhile\u001b[39;00m \u001b[39mTrue\u001b[39;00m:\n\u001b[0;32m---> 17\u001b[0m     part \u001b[39m=\u001b[39m \u001b[39mself\u001b[39;49m\u001b[39m.\u001b[39;49msocket\u001b[39m.\u001b[39;49mrecv(buffer_size)\n\u001b[1;32m     18\u001b[0m     data \u001b[39m+\u001b[39m\u001b[39m=\u001b[39m part\n\u001b[1;32m     19\u001b[0m     \u001b[39mif\u001b[39;00m \u001b[39mlen\u001b[39m(part) \u001b[39m<\u001b[39m buffer_size:\n",
      "\u001b[0;31mKeyboardInterrupt\u001b[0m: "
     ]
    }
   ],
   "source": [
    "simulator.server.recive()"
   ]
  },
  {
   "cell_type": "code",
   "execution_count": null,
   "metadata": {},
   "outputs": [],
   "source": [
    "simulator.server.clients[-1].socket.sendall(b\"foo\")"
   ]
  },
  {
   "cell_type": "code",
   "execution_count": null,
   "metadata": {},
   "outputs": [],
   "source": [
    "agent.train()"
   ]
  },
  {
   "cell_type": "code",
   "execution_count": null,
   "metadata": {},
   "outputs": [],
   "source": [
    "simulator.shutdown()"
   ]
  }
 ],
 "metadata": {
  "kernelspec": {
   "display_name": "base",
   "language": "python",
   "name": "python3"
  },
  "language_info": {
   "codemirror_mode": {
    "name": "ipython",
    "version": 3
   },
   "file_extension": ".py",
   "mimetype": "text/x-python",
   "name": "python",
   "nbconvert_exporter": "python",
   "pygments_lexer": "ipython3",
   "version": "3.10.11"
  },
  "orig_nbformat": 4
 },
 "nbformat": 4,
 "nbformat_minor": 2
}
